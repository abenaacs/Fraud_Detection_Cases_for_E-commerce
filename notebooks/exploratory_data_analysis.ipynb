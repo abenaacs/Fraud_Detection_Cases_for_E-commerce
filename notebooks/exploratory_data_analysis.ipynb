{
 "cells": [
  {
   "cell_type": "code",
   "execution_count": null,
   "metadata": {},
   "outputs": [],
   "source": [
    "import pandas as pd\n",
    "import matplotlib.pyplot as plt\n",
    "import seaborn as sns\n",
    "\n",
    "# Load processed data\n",
    "fraud_df = pd.read_csv(\"../data/processed_fraud_data.csv\")\n",
    "creditcard_df = pd.read_csv(\"../data/processed_creditcard_data.csv\")\n",
    "\n",
    "# Univariate Analysis\n",
    "fraud_df['class'].value_counts().plot(kind='bar', title='Fraud vs Non-Fraud Transactions')\n",
    "plt.show()\n",
    "\n",
    "# Bivariate Analysis\n",
    "sns.scatterplot(x='purchase_value', y='age', hue='class', data=fraud_df)\n",
    "plt.show()"
   ]
  },
  {
   "cell_type": "code",
   "execution_count": null,
   "metadata": {},
   "outputs": [],
   "source": []
  }
 ],
 "metadata": {
  "kernelspec": {
   "display_name": "env",
   "language": "python",
   "name": "python3"
  },
  "language_info": {
   "name": "python",
   "version": "3.9.13"
  }
 },
 "nbformat": 4,
 "nbformat_minor": 2
}
